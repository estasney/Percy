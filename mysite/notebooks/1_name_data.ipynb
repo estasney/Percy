{
    "cells": [
        {
            "cell_type": "markdown",
            "source": [
                "# Name Data\n"
            ],
            "metadata": {
                "collapsed": false
            }
        },
        {
            "cell_type": "markdown",
            "source": [
                "## Gathering\n",
                "\n",
                "If there is a \"Gold Standard\" for a First Name and Gender dataset it must be the [National data](https://www.ssa.gov/oact/babynames/limits.html) provided by the U.S. Social Security Administration.\n",
                "\n",
                "> All names are from Social Security card applications for births that occurred in the United States after 1879. Note that many people born before 1937 never applied for a Social Security card, so their names are not included in our data. For others who did apply, our records may not show the place of birth, and again their names are not included in our data.\n",
                "All data are from a 100% sample of our records on Social Security card applications as of March 2019.\n",
                "\n",
                "Let's examine the dataset"
            ],
            "metadata": {
                "collapsed": false
            }
        },
        {
            "cell_type": "code",
            "execution_count": 1,
            "outputs": [],
            "source": [
                "import requests\n",
                "import io\n",
                "import re\n",
                "from zipfile import ZipFile\n",
                "\n",
                "\n",
                "url = \"https://www.ssa.gov/oact/babynames/names.zip\"\n",
                "r = requests.get(url, allow_redirects=True)\n",
                "\n",
                "raw = io.BytesIO(r.content)\n",
                "data = {}\n",
                "\n",
                "with ZipFile(raw) as myzip:\n",
                "    file_names = myzip.namelist()\n",
                "    file_names = filter(lambda x: 'yob' in x, file_names)\n",
                "    for f in file_names:\n",
                "        year_of_birth = int(re.search(r\"[0-9]{4}\", f).group())\n",
                "        with myzip.open(f) as myfile:\n",
                "            data[year_of_birth] = myfile.read().decode().splitlines()\n"
            ],
            "metadata": {
                "collapsed": false,
                "pycharm": {
                    "name": "#%%\n",
                    "is_executing": false
                }
            }
        },
        {
            "cell_type": "markdown",
            "source": [
                "Since we are interested in aggregating these counts by name across several years let's do so after choosing a range of years.\n",
                "\n",
                "\n"
            ],
            "metadata": {
                "collapsed": false
            }
        },
        {
            "cell_type": "code",
            "execution_count": 2,
            "outputs": [],
            "source": [
                "name_counts = {}\n",
                "start_year = 1970\n",
                "\n",
                "for year, names in data.items():\n",
                "    if year < start_year:\n",
                "        continue\n",
                "    for line in names:\n",
                "        name, gender, count = line.split(\",\")\n",
                "        count = int(count)\n",
                "        current_counts = name_counts.get(name, {'M': 0, 'F': 0})\n",
                "        current_counts[gender] += count\n",
                "        name_counts[name] = current_counts\n",
                "        "
            ],
            "metadata": {
                "collapsed": false,
                "pycharm": {
                    "name": "#%%\n",
                    "is_executing": false
                }
            }
        },
        {
            "cell_type": "code",
            "execution_count": 3,
            "outputs": [],
            "source": [
                "import pandas as pd\n",
                "\n",
                "df = pd.DataFrame(list(name_counts.items()), columns=['Name', 'Counts'])\n",
                "df = df.join(df['Counts'].apply(pd.Series))\n",
                "del df['Counts']"
            ],
            "metadata": {
                "collapsed": false,
                "pycharm": {
                    "name": "#%%\n",
                    "is_executing": false
                }
            }
        },
        {
            "cell_type": "code",
            "execution_count": 4,
            "outputs": [
                {
                    "data": {
                        "text/plain": "               Name  M   F\n77634      Leonydus  5   0\n87001      Kaelahni  0   6\n43032      Marielos  0  10\n60933  Juanfernando  5   0\n51795      Jevontay  5   0",
                        "text/html": "<div>\n<style scoped>\n    .dataframe tbody tr th:only-of-type {\n        vertical-align: middle;\n    }\n\n    .dataframe tbody tr th {\n        vertical-align: top;\n    }\n\n    .dataframe thead th {\n        text-align: right;\n    }\n</style>\n<table border=\"1\" class=\"dataframe\">\n  <thead>\n    <tr style=\"text-align: right;\">\n      <th></th>\n      <th>Name</th>\n      <th>M</th>\n      <th>F</th>\n    </tr>\n  </thead>\n  <tbody>\n    <tr>\n      <th>77634</th>\n      <td>Leonydus</td>\n      <td>5</td>\n      <td>0</td>\n    </tr>\n    <tr>\n      <th>87001</th>\n      <td>Kaelahni</td>\n      <td>0</td>\n      <td>6</td>\n    </tr>\n    <tr>\n      <th>43032</th>\n      <td>Marielos</td>\n      <td>0</td>\n      <td>10</td>\n    </tr>\n    <tr>\n      <th>60933</th>\n      <td>Juanfernando</td>\n      <td>5</td>\n      <td>0</td>\n    </tr>\n    <tr>\n      <th>51795</th>\n      <td>Jevontay</td>\n      <td>5</td>\n      <td>0</td>\n    </tr>\n  </tbody>\n</table>\n</div>"
                    },
                    "metadata": {},
                    "output_type": "execute_result",
                    "execution_count": 76
                }
            ],
            "source": [
                "df.sample(5)"
            ],
            "metadata": {
                "collapsed": false,
                "pycharm": {
                    "name": "#%%\n",
                    "is_executing": false
                }
            }
        },
        {
            "cell_type": "markdown",
            "source": [
                "The SSA mentions a point that is of interest to us:\n",
                "> Name data are not edited. For example, the sex associated with a name may be incorrect. Entries such as \"Unknown\" and \"Baby\" are not removed from the lists.\n",
                "\n",
                "We will manually remove these\n"
            ],
            "metadata": {
                "collapsed": false
            }
        },
        {
            "cell_type": "code",
            "execution_count": 5,
            "outputs": [],
            "source": [
                "# Manually removing data that are not 'real' names\n",
                "import numpy as np\n",
                "import operator\n",
                "\n",
                "# Helper functions for chaining multiple filters\n",
                "\n",
                "def make_filter(df, col, value, op):\n",
                "    return op(df[col], value)\n",
                "\n",
                "def combine_filters(df, boolean, *filters):\n",
                "    return df[(boolean(*filters))]\n",
                "\n",
                "def remove_names(names, df=df, col='Name', op=operator.ne):\n",
                "    current_count = len(df)\n",
                "    filters = []\n",
                "    for name in names:\n",
                "        f1 = make_filter(df, col, name, op)\n",
                "        filters.append(f1)\n",
                "        \n",
                "    # np.logical_or.reduce == \"matching any of these conditions\"\n",
                "    # np.logical_and.reduce == \"matching all of these conditions\"\n",
                "    \n",
                "    df1 = combine_filters(df, np.logical_and.reduce, filters)\n",
                "    print(\"Removed {} Names\".format(current_count - len(df1)))\n",
                "    return df1\n",
                "\n",
                "names_to_remove = ['Person', 'Baby', 'Unknown', 'First', 'Firstname', 'First Name', 'Boy', 'Girl',\n",
                "                   'Man', 'Woman']"
            ],
            "metadata": {
                "collapsed": false,
                "pycharm": {
                    "name": "#%%\n",
                    "is_executing": false
                }
            }
        },
        {
            "cell_type": "code",
            "execution_count": 6,
            "outputs": [
                {
                    "name": "stdout",
                    "text": [
                        "Removed 5 Names\n"
                    ],
                    "output_type": "stream"
                }
            ],
            "source": [
                "df = remove_names(names_to_remove)"
            ],
            "metadata": {
                "collapsed": false,
                "pycharm": {
                    "name": "#%%\n",
                    "is_executing": false
                }
            }
        }
    ],
    "metadata": {
        "kernelspec": {
            "display_name": "Python 3",
            "language": "python",
            "name": "python3"
        },
        "language_info": {
            "codemirror_mode": {
                "name": "ipython",
                "version": 3
            },
            "file_extension": ".py",
            "mimetype": "text/x-python",
            "name": "python",
            "nbconvert_exporter": "python",
            "pygments_lexer": "ipython3",
            "version": "3.7.3"
        },
        "pycharm": {
            "stem_cell": {
                "cell_type": "raw",
                "source": [],
                "metadata": {
                    "collapsed": false
                }
            }
        }
    },
    "nbformat": 4,
    "nbformat_minor": 1
}