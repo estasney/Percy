{
 "cells": [
  {
   "cell_type": "markdown",
   "source": [
    "# Preface\n"
   ],
   "metadata": {
    "collapsed": false
   }
  },
  {
   "cell_type": "markdown",
   "source": [
    "## What is Diversity Analysis?\n",
    "In order to achieve the stated goal of a diverse work environment, we need to be able to produce quantifiable measures of diversity. The challenge is that indicators of diversity such as national origin, veteran status, gender, etc. are sensitive and not reported in available datasets.\n",
    "\n",
    "However, for any population that we wish to analyze we will always have, at a minimum a First and Last name.\n",
    "\n",
    "In most cultures, there exist 'masculine' and 'feminine' names. However, there is no universal law that requires this. The result is that some names are strong predictors of sex such:\n",
    "\n",
    "- Elizabeth\n",
    "- Sarah\n",
    "- John\n",
    "- James\n",
    "\n",
    "While others such as :\n",
    "\n",
    "- Casey\n",
    "- Jessie\n",
    "- Jordan\n",
    "\n",
    "are not strong predictors.               \n"
   ],
   "metadata": {
    "collapsed": false
   }
  },
  {
   "cell_type": "markdown",
   "source": [
    "## Names as Predictors\n",
    "\n",
    "Based on our own experiences we are likely to agree with the above names and their respective assignments. If our goal is to provide a quantifiable measure, we need some method to quantify this\n",
    "   \n"
   ],
   "metadata": {
    "collapsed": false
   }
  }
 ],
 "metadata": {
  "language_info": {
   "codemirror_mode": {
    "name": "ipython",
    "version": 2
   },
   "file_extension": ".py",
   "mimetype": "text/x-python",
   "name": "python",
   "nbconvert_exporter": "python",
   "pygments_lexer": "ipython2",
   "version": "2.7.6"
  },
  "kernelspec": {
   "name": "python3",
   "language": "python",
   "display_name": "Python 3"
  },
  "pycharm": {
   "stem_cell": {
    "cell_type": "raw",
    "source": [],
    "metadata": {
     "collapsed": false
    }
   }
  }
 },
 "nbformat": 4,
 "nbformat_minor": 0
}