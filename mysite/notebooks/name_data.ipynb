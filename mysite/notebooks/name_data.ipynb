{
 "cells": [
  {
   "cell_type": "markdown",
   "source": [
    "# Name Data\n"
   ],
   "metadata": {
    "collapsed": false
   }
  },
  {
   "cell_type": "markdown",
   "source": [
    "## Gathering\n",
    "\n",
    "If there is a \"Gold Standard\" for a First Name and Gender dataset it must be the [National data](https://www.ssa.gov/oact/babynames/limits.html) provided by the U.S. Social Security Administration.\n",
    "\n",
    "> All names are from Social Security card applications for births that occurred in the United States after 1879. Note that many people born before 1937 never applied for a Social Security card, so their names are not included in our data. For others who did apply, our records may not show the place of birth, and again their names are not included in our data.\n",
    "All data are from a 100% sample of our records on Social Security card applications as of March 2019.\n",
    "\n",
    "Let's examine the dataset"
   ],
   "metadata": {
    "collapsed": false
   }
  },
  {
   "cell_type": "code",
   "execution_count": 6,
   "outputs": [],
   "source": [
    "import requests\n",
    "import io\n",
    "import re\n",
    "from zipfile import ZipFile\n",
    "\n",
    "\n",
    "url = \"https://www.ssa.gov/oact/babynames/names.zip\"\n",
    "r = requests.get(url, allow_redirects=True)\n",
    "\n",
    "raw = io.BytesIO(r.content)\n",
    "data = {}\n",
    "\n",
    "with ZipFile(raw) as myzip:\n",
    "    file_names = myzip.namelist()\n",
    "    file_names = filter(lambda x: 'yob' in x, file_names)\n",
    "    for f in file_names:\n",
    "        year_of_birth = int(re.search(r\"[0-9]{4}\", f).group())\n",
    "        with myzip.open(f) as myfile:\n",
    "            data[year_of_birth] = myfile.read().decode().splitlines()\n"
   ],
   "metadata": {
    "collapsed": false,
    "pycharm": {
     "name": "#%%\n",
     "is_executing": false
    }
   }
  },
  {
   "cell_type": "markdown",
   "source": [
    "Since we are interested in aggregating these counts by name across several years let's do so after choosing a range of years\n"
   ],
   "metadata": {
    "collapsed": false,
    "pycharm": {
     "name": "#%% md\n"
    }
   }
  },
  {
   "cell_type": "code",
   "execution_count": 7,
   "outputs": [],
   "source": [
    "name_counts = {}\n",
    "start_year = 1970\n",
    "\n",
    "for year, names in data.items():\n",
    "    if year < start_year:\n",
    "        continue\n",
    "    for line in names:\n",
    "        name, gender, count = line.split(\",\")\n",
    "        count = int(count)\n",
    "        current_counts = name_counts.get(name, {'M': 0, 'F': 0})\n",
    "        current_counts[gender] += count\n",
    "        name_counts[name] = current_counts\n",
    "        "
   ],
   "metadata": {
    "collapsed": false,
    "pycharm": {
     "name": "#%%\n",
     "is_executing": false
    }
   }
  },
  {
   "cell_type": "code",
   "execution_count": 12,
   "outputs": [],
   "source": [
    "# make a pandas DataFrame\n",
    "import pandas as pd\n",
    "\n",
    "df = pd.DataFrame(list(name_counts.items()), columns=['Name', 'Counts'])\n",
    "df = df.join(df['Counts'].apply(pd.Series))\n",
    "del df['Counts']"
   ],
   "metadata": {
    "collapsed": false,
    "pycharm": {
     "name": "#%%\n",
     "is_executing": false
    }
   }
  },
  {
   "cell_type": "code",
   "execution_count": 14,
   "outputs": [
    {
     "data": {
      "text/plain": "               Name     M      F\n43824        Rondie     5      0\n80752       Adithri     0     23\n82917       Kingman     6      0\n71163       Zamyiah     0     90\n62735      Darreion    12      0\n36164     Corddaryl     5      0\n61825       Cadynce     0    272\n76697      Armonnie     0      5\n39312        Kevona     0    113\n83813         Liyan    19      5\n60141        Liviya     0    164\n85349    Abdulhaadi     5      0\n18676       Idrissa   119      6\n62716       Chartez     5      0\n34749         Mykah   785   1098\n13157       Lenford    10      0\n72288          Guru    13      0\n10117       Geraldo  2013      0\n39966      Kristofe     9      0\n55443       Kamirah     0    293\n15778    Harrington   142      0\n10185          Otha   682      9\n75591        Kaelum    80      0\n75572        Rhonin    99      0\n73393       Jaciyah     0     16\n38482       Melquan   259      0\n17308        Lekita     0    129\n66284       Xanthus    11      0\n76623         Aalya     0     53\n50694       Zakeria     5    213\n...             ...   ...    ...\n27433        Renota     0     44\n56061       Dajiana     0     15\n66676       Nevayah     0    302\n7411        Javette     0     49\n51952       Tavario     5      0\n29473        Sochil     0     18\n80983       Urielle     0     19\n43561          Oday    70      0\n86734     Reinhardt    11      0\n8563        Judyann     0     46\n17043        Ameera     0   2277\n27559       Amellia     0    619\n34372  Vanessamarie     0     40\n29519         Walia     0      5\n57938      Clairece     0      5\n52601       Demeria     0     56\n78           Tamara   293  75675\n4478         Torrey  4550   1102\n18171        Master   346      0\n77003       Mynasia     0      5\n63733       Danaiya     0     61\n10993          Derk   243      0\n75597         Maxym    24      0\n42072   Joshuaaaron    11      0\n79978        Pypper     0      5\n17968         Adran    31      0\n27172       Delmond     5      0\n45005       Domonik   106      0\n64256       Torrien    43      0\n27951        Jonlyn     0      5\n\n[100 rows x 3 columns]",
      "text/html": "<div>\n<style scoped>\n    .dataframe tbody tr th:only-of-type {\n        vertical-align: middle;\n    }\n\n    .dataframe tbody tr th {\n        vertical-align: top;\n    }\n\n    .dataframe thead th {\n        text-align: right;\n    }\n</style>\n<table border=\"1\" class=\"dataframe\">\n  <thead>\n    <tr style=\"text-align: right;\">\n      <th></th>\n      <th>Name</th>\n      <th>M</th>\n      <th>F</th>\n    </tr>\n  </thead>\n  <tbody>\n    <tr>\n      <th>43824</th>\n      <td>Rondie</td>\n      <td>5</td>\n      <td>0</td>\n    </tr>\n    <tr>\n      <th>80752</th>\n      <td>Adithri</td>\n      <td>0</td>\n      <td>23</td>\n    </tr>\n    <tr>\n      <th>82917</th>\n      <td>Kingman</td>\n      <td>6</td>\n      <td>0</td>\n    </tr>\n    <tr>\n      <th>71163</th>\n      <td>Zamyiah</td>\n      <td>0</td>\n      <td>90</td>\n    </tr>\n    <tr>\n      <th>62735</th>\n      <td>Darreion</td>\n      <td>12</td>\n      <td>0</td>\n    </tr>\n    <tr>\n      <th>36164</th>\n      <td>Corddaryl</td>\n      <td>5</td>\n      <td>0</td>\n    </tr>\n    <tr>\n      <th>61825</th>\n      <td>Cadynce</td>\n      <td>0</td>\n      <td>272</td>\n    </tr>\n    <tr>\n      <th>76697</th>\n      <td>Armonnie</td>\n      <td>0</td>\n      <td>5</td>\n    </tr>\n    <tr>\n      <th>39312</th>\n      <td>Kevona</td>\n      <td>0</td>\n      <td>113</td>\n    </tr>\n    <tr>\n      <th>83813</th>\n      <td>Liyan</td>\n      <td>19</td>\n      <td>5</td>\n    </tr>\n    <tr>\n      <th>60141</th>\n      <td>Liviya</td>\n      <td>0</td>\n      <td>164</td>\n    </tr>\n    <tr>\n      <th>85349</th>\n      <td>Abdulhaadi</td>\n      <td>5</td>\n      <td>0</td>\n    </tr>\n    <tr>\n      <th>18676</th>\n      <td>Idrissa</td>\n      <td>119</td>\n      <td>6</td>\n    </tr>\n    <tr>\n      <th>62716</th>\n      <td>Chartez</td>\n      <td>5</td>\n      <td>0</td>\n    </tr>\n    <tr>\n      <th>34749</th>\n      <td>Mykah</td>\n      <td>785</td>\n      <td>1098</td>\n    </tr>\n    <tr>\n      <th>13157</th>\n      <td>Lenford</td>\n      <td>10</td>\n      <td>0</td>\n    </tr>\n    <tr>\n      <th>72288</th>\n      <td>Guru</td>\n      <td>13</td>\n      <td>0</td>\n    </tr>\n    <tr>\n      <th>10117</th>\n      <td>Geraldo</td>\n      <td>2013</td>\n      <td>0</td>\n    </tr>\n    <tr>\n      <th>39966</th>\n      <td>Kristofe</td>\n      <td>9</td>\n      <td>0</td>\n    </tr>\n    <tr>\n      <th>55443</th>\n      <td>Kamirah</td>\n      <td>0</td>\n      <td>293</td>\n    </tr>\n    <tr>\n      <th>15778</th>\n      <td>Harrington</td>\n      <td>142</td>\n      <td>0</td>\n    </tr>\n    <tr>\n      <th>10185</th>\n      <td>Otha</td>\n      <td>682</td>\n      <td>9</td>\n    </tr>\n    <tr>\n      <th>75591</th>\n      <td>Kaelum</td>\n      <td>80</td>\n      <td>0</td>\n    </tr>\n    <tr>\n      <th>75572</th>\n      <td>Rhonin</td>\n      <td>99</td>\n      <td>0</td>\n    </tr>\n    <tr>\n      <th>73393</th>\n      <td>Jaciyah</td>\n      <td>0</td>\n      <td>16</td>\n    </tr>\n    <tr>\n      <th>38482</th>\n      <td>Melquan</td>\n      <td>259</td>\n      <td>0</td>\n    </tr>\n    <tr>\n      <th>17308</th>\n      <td>Lekita</td>\n      <td>0</td>\n      <td>129</td>\n    </tr>\n    <tr>\n      <th>66284</th>\n      <td>Xanthus</td>\n      <td>11</td>\n      <td>0</td>\n    </tr>\n    <tr>\n      <th>76623</th>\n      <td>Aalya</td>\n      <td>0</td>\n      <td>53</td>\n    </tr>\n    <tr>\n      <th>50694</th>\n      <td>Zakeria</td>\n      <td>5</td>\n      <td>213</td>\n    </tr>\n    <tr>\n      <th>...</th>\n      <td>...</td>\n      <td>...</td>\n      <td>...</td>\n    </tr>\n    <tr>\n      <th>27433</th>\n      <td>Renota</td>\n      <td>0</td>\n      <td>44</td>\n    </tr>\n    <tr>\n      <th>56061</th>\n      <td>Dajiana</td>\n      <td>0</td>\n      <td>15</td>\n    </tr>\n    <tr>\n      <th>66676</th>\n      <td>Nevayah</td>\n      <td>0</td>\n      <td>302</td>\n    </tr>\n    <tr>\n      <th>7411</th>\n      <td>Javette</td>\n      <td>0</td>\n      <td>49</td>\n    </tr>\n    <tr>\n      <th>51952</th>\n      <td>Tavario</td>\n      <td>5</td>\n      <td>0</td>\n    </tr>\n    <tr>\n      <th>29473</th>\n      <td>Sochil</td>\n      <td>0</td>\n      <td>18</td>\n    </tr>\n    <tr>\n      <th>80983</th>\n      <td>Urielle</td>\n      <td>0</td>\n      <td>19</td>\n    </tr>\n    <tr>\n      <th>43561</th>\n      <td>Oday</td>\n      <td>70</td>\n      <td>0</td>\n    </tr>\n    <tr>\n      <th>86734</th>\n      <td>Reinhardt</td>\n      <td>11</td>\n      <td>0</td>\n    </tr>\n    <tr>\n      <th>8563</th>\n      <td>Judyann</td>\n      <td>0</td>\n      <td>46</td>\n    </tr>\n    <tr>\n      <th>17043</th>\n      <td>Ameera</td>\n      <td>0</td>\n      <td>2277</td>\n    </tr>\n    <tr>\n      <th>27559</th>\n      <td>Amellia</td>\n      <td>0</td>\n      <td>619</td>\n    </tr>\n    <tr>\n      <th>34372</th>\n      <td>Vanessamarie</td>\n      <td>0</td>\n      <td>40</td>\n    </tr>\n    <tr>\n      <th>29519</th>\n      <td>Walia</td>\n      <td>0</td>\n      <td>5</td>\n    </tr>\n    <tr>\n      <th>57938</th>\n      <td>Clairece</td>\n      <td>0</td>\n      <td>5</td>\n    </tr>\n    <tr>\n      <th>52601</th>\n      <td>Demeria</td>\n      <td>0</td>\n      <td>56</td>\n    </tr>\n    <tr>\n      <th>78</th>\n      <td>Tamara</td>\n      <td>293</td>\n      <td>75675</td>\n    </tr>\n    <tr>\n      <th>4478</th>\n      <td>Torrey</td>\n      <td>4550</td>\n      <td>1102</td>\n    </tr>\n    <tr>\n      <th>18171</th>\n      <td>Master</td>\n      <td>346</td>\n      <td>0</td>\n    </tr>\n    <tr>\n      <th>77003</th>\n      <td>Mynasia</td>\n      <td>0</td>\n      <td>5</td>\n    </tr>\n    <tr>\n      <th>63733</th>\n      <td>Danaiya</td>\n      <td>0</td>\n      <td>61</td>\n    </tr>\n    <tr>\n      <th>10993</th>\n      <td>Derk</td>\n      <td>243</td>\n      <td>0</td>\n    </tr>\n    <tr>\n      <th>75597</th>\n      <td>Maxym</td>\n      <td>24</td>\n      <td>0</td>\n    </tr>\n    <tr>\n      <th>42072</th>\n      <td>Joshuaaaron</td>\n      <td>11</td>\n      <td>0</td>\n    </tr>\n    <tr>\n      <th>79978</th>\n      <td>Pypper</td>\n      <td>0</td>\n      <td>5</td>\n    </tr>\n    <tr>\n      <th>17968</th>\n      <td>Adran</td>\n      <td>31</td>\n      <td>0</td>\n    </tr>\n    <tr>\n      <th>27172</th>\n      <td>Delmond</td>\n      <td>5</td>\n      <td>0</td>\n    </tr>\n    <tr>\n      <th>45005</th>\n      <td>Domonik</td>\n      <td>106</td>\n      <td>0</td>\n    </tr>\n    <tr>\n      <th>64256</th>\n      <td>Torrien</td>\n      <td>43</td>\n      <td>0</td>\n    </tr>\n    <tr>\n      <th>27951</th>\n      <td>Jonlyn</td>\n      <td>0</td>\n      <td>5</td>\n    </tr>\n  </tbody>\n</table>\n<p>100 rows × 3 columns</p>\n</div>"
     },
     "metadata": {},
     "output_type": "execute_result",
     "execution_count": 14
    }
   ],
   "source": [
    "df.sample(100)\n"
   ],
   "metadata": {
    "collapsed": false,
    "pycharm": {
     "name": "#%%\n",
     "is_executing": false
    }
   }
  }
 ],
 "metadata": {
  "language_info": {
   "codemirror_mode": {
    "name": "ipython",
    "version": 2
   },
   "file_extension": ".py",
   "mimetype": "text/x-python",
   "name": "python",
   "nbconvert_exporter": "python",
   "pygments_lexer": "ipython2",
   "version": "2.7.6"
  },
  "kernelspec": {
   "name": "python3",
   "language": "python",
   "display_name": "Python 3"
  },
  "pycharm": {
   "stem_cell": {
    "cell_type": "raw",
    "source": [],
    "metadata": {
     "collapsed": false
    }
   }
  }
 },
 "nbformat": 4,
 "nbformat_minor": 0
}