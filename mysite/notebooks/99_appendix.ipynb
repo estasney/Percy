{
 "cells": [
  {
   "cell_type": "markdown",
   "source": [
    "Collection of scripts for managing the notebooks"
   ],
   "metadata": {
    "collapsed": false,
    "pycharm": {
     "name": "#%% md\n"
    }
   }
  },
  {
   "cell_type": "code",
   "execution_count": 4,
   "outputs": [],
   "source": [
    "import json\n",
    "\n",
    "def clean_output(notebook_fp):\n",
    "    with open(notebook_fp, \"r\") as f:\n",
    "        notebook_json = json.load(f)\n",
    "        \n",
    "    cells = notebook_json['cells']\n",
    "    for cell in cells:\n",
    "        if cell.get('cell_type', '') != 'code':\n",
    "            continue\n",
    "        cell['execution_count'] = None\n",
    "        \n",
    "    notebook_json['cells'] = cells\n",
    "    with open(notebook_fp, \"w\") as f:\n",
    "        json.dump(notebook_json, f, indent=4)\n",
    "        \n",
    "clean_output(r\"C:\\Users\\estasney\\PycharmProjects\\Percy\\mysite\\notebooks\\1_name_data.ipynb\")"
   ],
   "metadata": {
    "collapsed": false,
    "pycharm": {
     "name": "#%%\n",
     "is_executing": false
    }
   }
  }
 ],
 "metadata": {
  "language_info": {
   "codemirror_mode": {
    "name": "ipython",
    "version": 2
   },
   "file_extension": ".py",
   "mimetype": "text/x-python",
   "name": "python",
   "nbconvert_exporter": "python",
   "pygments_lexer": "ipython2",
   "version": "2.7.6"
  },
  "kernelspec": {
   "name": "python3",
   "language": "python",
   "display_name": "Python 3"
  },
  "pycharm": {
   "stem_cell": {
    "cell_type": "raw",
    "source": [],
    "metadata": {
     "collapsed": false
    }
   }
  }
 },
 "nbformat": 4,
 "nbformat_minor": 0
}